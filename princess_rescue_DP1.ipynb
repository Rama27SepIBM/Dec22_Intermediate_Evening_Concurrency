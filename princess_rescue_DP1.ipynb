{
  "nbformat": 4,
  "nbformat_minor": 0,
  "metadata": {
    "colab": {
      "provenance": [],
      "authorship_tag": "ABX9TyOnozDu+3403RMCRSNaKCnS",
      "include_colab_link": true
    },
    "kernelspec": {
      "name": "python3",
      "display_name": "Python 3"
    },
    "language_info": {
      "name": "python"
    }
  },
  "cells": [
    {
      "cell_type": "markdown",
      "metadata": {
        "id": "view-in-github",
        "colab_type": "text"
      },
      "source": [
        "<a href=\"https://colab.research.google.com/github/Rama27SepIBM/Dec22_Intermediate_Evening_Concurrency/blob/master/princess_rescue_DP1.ipynb\" target=\"_parent\"><img src=\"https://colab.research.google.com/assets/colab-badge.svg\" alt=\"Open In Colab\"/></a>"
      ]
    },
    {
      "cell_type": "markdown",
      "source": [
        "This code defines a function calculate_minimum_hp() that takes a dungeon matrix, a current row index, and a current column index as input. The function recursively explores all possible paths from the top-left cell to the bottom-right cell, calculating the minimum health required at each cell. It handles base cases for reaching the princess cell or going out of bounds. For intermediate cells, it calculates the minimum health required to reach the next cell and adjusts the value based on the dungeon value of the current cell. Finally, it returns the minimum health required to reach the current cell."
      ],
      "metadata": {
        "id": "hfiicfWa5OT2"
      }
    },
    {
      "cell_type": "code",
      "execution_count": 1,
      "metadata": {
        "id": "ztPcd3bl4_9R"
      },
      "outputs": [],
      "source": [
        "def calculate_minimum_hp(dungeon, row, col):\n",
        "    if row == len(dungeon) - 1 and col == len(dungeon[0]) - 1:\n",
        "        # Base case: Reached the princess cell\n",
        "        # Return the minimum health required to reach this cell\n",
        "        return max(1, 1 - dungeon[row][col])\n",
        "\n",
        "    if row == len(dungeon) or col == len(dungeon[0]):\n",
        "        # Base case: Out of bounds\n",
        "        # Return a large value to indicate invalid path\n",
        "        return float('inf')\n",
        "\n",
        "    # Calculate the minimum health required to reach the next cell by moving right or down\n",
        "    next_health = min(\n",
        "        calculate_minimum_hp(dungeon, row, col + 1),\n",
        "        calculate_minimum_hp(dungeon, row + 1, col)\n",
        "    )\n",
        "\n",
        "    # Calculate the minimum health required to reach the current cell\n",
        "    current_health = max(1, next_health - dungeon[row][col])\n",
        "\n",
        "    return current_health"
      ]
    },
    {
      "cell_type": "markdown",
      "source": [
        "Dynamic Programming\n",
        "To optimize the recursive solution, we can use either top-down (memoization) or bottom-up (tabulation) dynamic programming. Let’s see both approaches.\n",
        "**Top-Down** Approach (Memoization):\n"
      ],
      "metadata": {
        "id": "Hk9RJvBF51Ry"
      }
    },
    {
      "cell_type": "code",
      "source": [
        "memo = []  # Declare the memoization array globally\n",
        "\n",
        "\n",
        "def calculate_minimum_hp(dungeon):\n",
        "    m, n = len(dungeon), len(dungeon[0])\n",
        "    memo = create_2d_memoization_table(m, n, -1)  # Initialize memoization table with -1\n",
        "\n",
        "    return dp(dungeon, 0, 0)\n",
        "\n",
        "\n",
        "def dp(dungeon, row, col):\n",
        "    if row == m - 1 and col == n - 1:\n",
        "        return max(1, 1 - dungeon[row][col])\n",
        "\n",
        "    if row == m or col == n:\n",
        "        return float('inf')\n",
        "\n",
        "    if memo[row][col] != -1:\n",
        "        return memo[row][col]\n",
        "\n",
        "    next_health = min(\n",
        "        dp(dungeon, row, col + 1),\n",
        "        dp(dungeon, row + 1, col)\n",
        "    )\n",
        "    current_health = max(1, next_health - dungeon[row][col])\n",
        "\n",
        "    memo[row][col] = current_health\n",
        "\n",
        "    return current_health\n",
        "\n",
        "\n",
        "def create_2d_memoization_table(m, n, default_value):\n",
        "    memo = [[default_value for _ in range(n)] for _ in range(m)]\n",
        "    return memo"
      ],
      "metadata": {
        "id": "WvA-V5Fu52jr"
      },
      "execution_count": 2,
      "outputs": []
    },
    {
      "cell_type": "markdown",
      "source": [
        "Bottom-Up Approach:\n"
      ],
      "metadata": {
        "id": "9CqaB3nC6SOI"
      }
    },
    {
      "cell_type": "code",
      "source": [
        "def calculate_minimum_hp(dungeon):\n",
        "    m, n = len(dungeon), len(dungeon[0])\n",
        "\n",
        "    # Create a 2D DP table initialized with infinity\n",
        "    dp = create_2d_table(m, n, float('inf'))\n",
        "\n",
        "    # Set the bottom-right cell value\n",
        "    dp[m - 1][n - 1] = max(1, 1 - dungeon[m - 1][n - 1])\n",
        "\n",
        "    # Fill the DP table from bottom-right to top-left\n",
        "    for i in range(m - 1, -1, -1):\n",
        "        for j in range(n - 1, -1, -1):\n",
        "            if i == m - 1 and j == n - 1:\n",
        "                continue  # Skip the bottom-right cell\n",
        "\n",
        "            # Calculate the minimum health required to reach the current cell\n",
        "            right_health = dp[i+1][j] if i != m - 1 else float('inf')  # Out of bounds check\n",
        "            down_health = dp[i][j+1] if j != n - 1 else float('inf')  # Out of bounds check\n",
        "            next_health = min(right_health, down_health)\n",
        "            current_health = max(1, next_health - dungeon[i][j])\n",
        "\n",
        "            dp[i][j] = current_health\n",
        "\n",
        "    # Return the minimum health required to reach the top-left cell\n",
        "    return dp[0][0]\n",
        "\n",
        "\n",
        "def create_2d_table(m, n, default_value):\n",
        "    dp = [[default_value for _ in range(n)] for _ in range(m)]\n",
        "    return dp"
      ],
      "metadata": {
        "id": "kHaXzxhV6TCm"
      },
      "execution_count": 3,
      "outputs": []
    },
    {
      "cell_type": "markdown",
      "source": [
        " Problem **Knapsack** :\n",
        "Problem Statement\n",
        "Given N items each with a weight and a value. Find the maximum value that can be obtained by picking up items such that the total weight of all items picked is less than K (The weight capacity of knapsack).\n",
        "Note:\n",
        "The “0/1” aspect of the problem implies that we can either include an item or exclude it, but we cannot include a fraction of an item.\n",
        "We can pick each item only once.\n",
        "Example\n",
        "Input\n",
        "W[] = {20, 10, 30, 40}\n",
        "V[] = {100, 60, 120, 150}\n",
        "K = 50\n",
        "Output\n",
        "220\n",
        "Explanation:\n",
        "We take Item 1 and Item 3 so the total weight is 20+30=50, and the value is 100+120=220."
      ],
      "metadata": {
        "id": "rph_Vzu19x7T"
      }
    },
    {
      "cell_type": "code",
      "source": [
        "def knapsackRecursive(items, capacity, currentIndex):\n",
        "    \"\"\"\n",
        "    Calculates the maximum value of items that can be fit into a knapsack with a given capacity.\n",
        "\n",
        "    Args:\n",
        "        items (list): A list of items with their weights and values.\n",
        "        capacity (int): The capacity of the knapsack.\n",
        "        currentIndex (int): The index of the current item in the list.\n",
        "\n",
        "    Returns:\n",
        "        int: The maximum value of items that can be fit into the knapsack.\n",
        "    \"\"\"\n",
        "\n",
        "    # Base case: If either we have no items left or the knapsack is full\n",
        "    if currentIndex < 0 or capacity <= 0:\n",
        "        return 0\n",
        "\n",
        "    # If the weight of the current item exceeds the remaining capacity, exclude it\n",
        "    if items[currentIndex].weight > capacity:\n",
        "        return knapsackRecursive(items, capacity, currentIndex - 1)\n",
        "\n",
        "    # Find the maximum value by either including or excluding the current item\n",
        "    includeCurrent = items[currentIndex].value + knapsackRecursive(items, capacity - items[currentIndex].weight, currentIndex - 1)\n",
        "    excludeCurrent = knapsackRecursive(items, capacity, currentIndex - 1)\n",
        "\n",
        "    return max(includeCurrent, excludeCurrent)  # Return the maximum value"
      ],
      "metadata": {
        "id": "pQ9sfAk698rQ"
      },
      "execution_count": 4,
      "outputs": []
    },
    {
      "cell_type": "markdown",
      "source": [
        "This code defines a function knapsackRecursive() that takes a list of items, the knapsack capacity, and the current item index as input. It recursively explores all possible combinations of items that can be fit into the knapsack, calculating the maximum value of items at each step. It handles base cases for having no items or having a full knapsack. For intermediate items, it considers both including and excluding the current item, recursively solving for the remaining items and capacity, and finally returns the maximum value obtained from either option."
      ],
      "metadata": {
        "id": "8FztI_oe-uXM"
      }
    },
    {
      "cell_type": "markdown",
      "source": [
        "Dynamic Programming Approach\n",
        "**Top-Down** (Memoization) Approach\n",
        "In the top-down approach, we’ll use memoization to store the computed values of subproblems and avoid redundant computations. Here’s the pseudo code for the top-down approach:\n"
      ],
      "metadata": {
        "id": "bxLNECsG-2Jd"
      }
    },
    {
      "cell_type": "code",
      "source": [
        "def knapsackTopDown(items, capacity, currentIndex, memo):\n",
        "    \"\"\"\n",
        "    Calculates the maximum value of items that can be fit into a knapsack with a given capacity using top-down memoization.\n",
        "\n",
        "    Args:\n",
        "        items (list): A list of items with their weights and values.\n",
        "        capacity (int): The capacity of the knapsack.\n",
        "        currentIndex (int): The index of the current item in the list.\n",
        "        memo (2D array): The memoization table to store intermediate results.\n",
        "\n",
        "    Returns:\n",
        "        int: The maximum value of items that can be fit into the knapsack.\n",
        "    \"\"\"\n",
        "\n",
        "    # Base case: If either we have no items left or the knapsack is full\n",
        "    if currentIndex < 0 or capacity <= 0:\n",
        "        return 0\n",
        "\n",
        "    # If the result is already memoized, return it\n",
        "    if memo[currentIndex][capacity] is not None:\n",
        "        return memo[currentIndex][capacity]\n",
        "\n",
        "    # If the weight of the current item exceeds the remaining capacity, exclude it\n",
        "    if items[currentIndex].weight > capacity:\n",
        "        memo[currentIndex][capacity] = knapsackTopDown(items, capacity, currentIndex - 1, memo)\n",
        "        return memo[currentIndex][capacity]\n",
        "\n",
        "    # Find the maximum value by either including or excluding the current item\n",
        "    includeCurrent = items[currentIndex].value + knapsackTopDown(items, capacity - items[currentIndex].weight, currentIndex - 1, memo)\n",
        "    excludeCurrent = knapsackTopDown(items, capacity, currentIndex - 1, memo)\n",
        "\n",
        "    # Store the result in the memoization table\n",
        "    memo[currentIndex][capacity] = max(includeCurrent, excludeCurrent)\n",
        "\n",
        "    # Return the maximum value\n",
        "    return memo[currentIndex][capacity]"
      ],
      "metadata": {
        "id": "xMnLUNPW-5a_"
      },
      "execution_count": 5,
      "outputs": []
    },
    {
      "cell_type": "markdown",
      "source": [
        "**Bottom-Up** (Tabulation) Approach\n",
        "In the bottom-up approach, we’ll use a table to store the computed values of subproblems iteratively, starting from smaller subproblems and building up to the larger ones.\n",
        "Elements of Choice: We have a set of items, each with its own weight and value. We can either include an item in the knapsack or exclude it.\n",
        "States: dp[i][j] represents the maximum value that can be obtained by considering the first i items and having a knapsack capacity of j.\n",
        "Recurrence Relation: The recurrence relation can be written as follows:\n",
        "dp[i][j] = max(dp[i-1][j], dp[i-1][j - weight[i]] + value[i])\n",
        "Final Answer: The final answer is stored in the state dp[n][W], where n is the total number of items and W is the total weight capacity of the knapsack. This represents the maximum value that can be achieved by considering all the items and having the full weight capacity of the knapsack.\n"
      ],
      "metadata": {
        "id": "YsomReXL_lko"
      }
    },
    {
      "cell_type": "markdown",
      "source": [
        "Time Complexity: O(n * W); **bold text**\n",
        "Space Complexity:O(n * W); **bold text**\n"
      ],
      "metadata": {
        "id": "Zv-yItR3_tbJ"
      }
    },
    {
      "cell_type": "code",
      "source": [
        "def knapsackBottomUp(items, capacity):\n",
        "    \"\"\"\n",
        "    Calculates the maximum value of items that can be fit into a knapsack with a given capacity using bottom-up dynamic programming.\n",
        "\n",
        "    Args:\n",
        "        items (list): A list of items with their weights and values.\n",
        "        capacity (int): The capacity of the knapsack.\n",
        "\n",
        "    Returns:\n",
        "        int: The maximum value of items that can be fit into the knapsack.\n",
        "    \"\"\"\n",
        "\n",
        "    n = len(items)  # Number of items\n",
        "    dp = create_2d_table(n + 1, capacity + 1)  # Initialize DP table\n",
        "\n",
        "    for i in range(1, n + 1):  # Iterate through items (starting from index 1)\n",
        "        for j in range(1, capacity + 1):  # Iterate through capacities (starting from 1)\n",
        "            if items[i - 1].weight > j:  # If the current item's weight exceeds the remaining capacity\n",
        "                dp[i][j] = dp[i - 1][j]  # Exclude the current item\n",
        "            else:\n",
        "                # Find the maximum value by either including or excluding the current item\n",
        "                includeCurrent = items[i - 1].value + dp[i - 1][j - items[i - 1].weight]\n",
        "                excludeCurrent = dp[i - 1][j]\n",
        "                dp[i][j] = max(includeCurrent, excludeCurrent)\n",
        "\n",
        "    # Return the maximum value stored in the bottom-right cell of the table\n",
        "    return dp[n][capacity]\n",
        "\n",
        "\n",
        "def create_2d_table(m, n, default_value):\n",
        "    dp = [[default_value for _ in range(n)] for _ in range(m)]\n",
        "    return dp"
      ],
      "metadata": {
        "id": "zxezXsRI_nrN"
      },
      "execution_count": 6,
      "outputs": []
    },
    {
      "cell_type": "code",
      "source": [],
      "metadata": {
        "id": "JptxzLBB-vs7"
      },
      "execution_count": null,
      "outputs": []
    }
  ]
}